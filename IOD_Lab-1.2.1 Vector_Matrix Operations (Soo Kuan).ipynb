{
 "cells": [
  {
   "cell_type": "markdown",
   "metadata": {
    "id": "emj1GNgIT3CB"
   },
   "source": [
    "<div>\n",
    "<img src=https://www.institutedata.com/wp-content/uploads/2019/10/iod_h_tp_primary_c.svg width=\"300\">\n",
    "</div>"
   ]
  },
  {
   "cell_type": "markdown",
   "metadata": {
    "id": "6WVkmCXWoyit"
   },
   "source": [
    "In this lab you will use Python (with the NumPy library) to carry out linear algebra operations."
   ]
  },
  {
   "cell_type": "markdown",
   "metadata": {
    "id": "FvN6xzeyT3CC"
   },
   "source": [
    "1. Compute the scalar product of two vectors\n",
    "\n",
    "> In mathematics, the dot product or scalar product is an algebraic operation that takes two equal-length sequences of numbers (usually coordinate vectors) and returns a single number.\n",
    "\n",
    "> we can calculate it this way:\n",
    "\n",
    "        a · b = ax × bx + ay × by\n",
    "        \n",
    "Hint: [Dot Product](https://www.mathsisfun.com/algebra/vectors-dot-product.html)"
   ]
  },
  {
   "cell_type": "code",
   "execution_count": 3,
   "metadata": {
    "ExecuteTime": {
     "end_time": "2019-06-27T03:58:34.200170Z",
     "start_time": "2019-06-27T03:58:34.196182Z"
    },
    "id": "JkwM7G3IT3CD"
   },
   "outputs": [],
   "source": [
    "import numpy as np"
   ]
  },
  {
   "cell_type": "code",
   "execution_count": 5,
   "metadata": {
    "ExecuteTime": {
     "end_time": "2019-06-27T04:56:56.317427Z",
     "start_time": "2019-06-27T04:56:56.313425Z"
    },
    "id": "rsOPN02pT3CG"
   },
   "outputs": [],
   "source": [
    "a = [-12, 16]\n",
    "b = [12, 9]"
   ]
  },
  {
   "cell_type": "code",
   "execution_count": 9,
   "metadata": {
    "id": "imtohvp_ZrIc"
   },
   "outputs": [
    {
     "name": "stdout",
     "output_type": "stream",
     "text": [
      "0\n"
     ]
    }
   ],
   "source": [
    "#answer:\n",
    "dot_product = np.dot(a,b)\n",
    "print(dot_product)"
   ]
  },
  {
   "cell_type": "markdown",
   "metadata": {
    "id": "2M2dKNL-T3CL"
   },
   "source": [
    "2. Compute the Hadamard product (entry-wise multiplication) of two vectors.\n",
    "\n",
    "> In mathematics, the Hadamard product (also known as the Schur product[1] or the entrywise product[2]:ch. 5) is a binary operation that takes two matrices of the same dimensions and produces another matrix of the same dimension as the operands where each element i, j is the product of elements i, j of the original two matrices. It should not be confused with the more common matrix product. It is attributed to, and named after, either French mathematician Jacques Hadamard or German mathematician Issai Schur. [Wiki](https://en.wikipedia.org/wiki/Hadamard_product_(matrices))\n",
    "\n",
    "![](https://wikimedia.org/api/rest_v1/media/math/render/svg/4eb9bb54b2820fb3583901ec05bc4b474b6d90bc)"
   ]
  },
  {
   "cell_type": "code",
   "execution_count": 17,
   "metadata": {
    "ExecuteTime": {
     "end_time": "2019-06-27T04:57:06.480263Z",
     "start_time": "2019-06-27T04:57:06.474279Z"
    },
    "id": "WnDQY9MyT3CM"
   },
   "outputs": [
    {
     "name": "stdout",
     "output_type": "stream",
     "text": [
      "[[1 2]\n",
      " [3 4]]\n",
      "[[5 6]\n",
      " [7 8]]\n"
     ]
    }
   ],
   "source": [
    "a = np.array([[1,2],[3,4]])\n",
    "b = np.array([[5,6],[7,8]])\n",
    "print(a)\n",
    "print(b)"
   ]
  },
  {
   "cell_type": "code",
   "execution_count": 19,
   "metadata": {
    "id": "mBergFdmZrIc"
   },
   "outputs": [
    {
     "name": "stdout",
     "output_type": "stream",
     "text": [
      "[[ 5 12]\n",
      " [21 32]]\n"
     ]
    }
   ],
   "source": [
    "#answer:\n",
    "h_product = a*b\n",
    "print(h_product)"
   ]
  },
  {
   "cell_type": "code",
   "execution_count": null,
   "metadata": {
    "id": "rXP4sJEA-Y9K"
   },
   "outputs": [],
   "source": [
    "#desired output:\n",
    "# np.array([[5,12],[21,32]])"
   ]
  },
  {
   "cell_type": "markdown",
   "metadata": {
    "id": "b1ZR2J8HT3CO"
   },
   "source": [
    "3. Compute the sum of two matrices.\n",
    "\n",
    "![](https://wikimedia.org/api/rest_v1/media/math/render/svg/0fb7845af355c550d44020e52699069c044126a9)"
   ]
  },
  {
   "cell_type": "code",
   "execution_count": 23,
   "metadata": {
    "ExecuteTime": {
     "end_time": "2019-06-27T04:57:13.225605Z",
     "start_time": "2019-06-27T04:57:13.214634Z"
    },
    "id": "ulBVhGDET3CP"
   },
   "outputs": [],
   "source": [
    "# Add two matrices using a nested loop\n",
    "\n",
    "X = [[1,2,3],\n",
    "    [4,5,6],\n",
    "    [7,8,9]]\n",
    "\n",
    "Y = [[2,3,7],\n",
    "    [1,4,9],\n",
    "    [3,2,3]]"
   ]
  },
  {
   "cell_type": "code",
   "execution_count": 27,
   "metadata": {
    "id": "ZeLJp3ZGZrId"
   },
   "outputs": [
    {
     "name": "stdout",
     "output_type": "stream",
     "text": [
      "[3, 5, 10]\n",
      "[5, 9, 15]\n",
      "[10, 10, 12]\n"
     ]
    }
   ],
   "source": [
    "#answer:\n",
    "rows = len(X) # Number of rows in the matrix\n",
    "cols = len(X[0]) # Number of columns in the matrix\n",
    "\n",
    "result = [[0 for _ in range(cols)] for _ in range(rows)] # Create 3 rows and 3 columns of 0 (3x3 Matrix)\n",
    "\n",
    "# Iterate over rows\n",
    "for i in range(rows):\n",
    "    # Iterate over columns\n",
    "    for j in range(cols):\n",
    "        # Add the corresponding elements\n",
    "        result[i][j] = X[i][j] + Y[i][j]\n",
    "        \n",
    "for row in result:\n",
    "    print(row)"
   ]
  },
  {
   "cell_type": "code",
   "execution_count": null,
   "metadata": {
    "id": "44erAMmCZrId"
   },
   "outputs": [],
   "source": [
    "#desired output:\n",
    "#[[3,5,10],\n",
    "# [5,9,15],\n",
    "# [10,10,12]]"
   ]
  },
  {
   "cell_type": "markdown",
   "metadata": {
    "ExecuteTime": {
     "end_time": "2019-06-27T04:04:23.509007Z",
     "start_time": "2019-06-27T04:04:23.503018Z"
    },
    "id": "CZFVdvEhT3CS"
   },
   "source": [
    "4. Compute the product of two matrices.\n",
    "\n",
    "![](https://upload.wikimedia.org/wikipedia/commons/e/eb/Matrix_multiplication_diagram_2.svg)"
   ]
  },
  {
   "cell_type": "code",
   "execution_count": 29,
   "metadata": {
    "ExecuteTime": {
     "end_time": "2019-06-27T04:57:19.425749Z",
     "start_time": "2019-06-27T04:57:19.412783Z"
    },
    "id": "2cwCXjx_T3CT"
   },
   "outputs": [],
   "source": [
    "# Program to multiply two matrices using nested loops\n",
    "\n",
    "# 3x3 matrix\n",
    "X = [[7, 2, 4],\n",
    "    [3, 9, 5],\n",
    "    [8, 1, 6]]\n",
    "\n",
    "# 3x4 matrix\n",
    "Y = [[5,8,2,6],\n",
    "    [1,4,9,3],\n",
    "    [7,2,5,8]]\n",
    "\n",
    "#X is 3 x 3, #Y is 3 x 4 matrix\n",
    "#result of XY is 3 x 4 matrix."
   ]
  },
  {
   "cell_type": "code",
   "execution_count": 39,
   "metadata": {
    "id": "cIUXYjgGZrIe"
   },
   "outputs": [
    {
     "name": "stdout",
     "output_type": "stream",
     "text": [
      "\n",
      "Result of Matrix Multiplication (X * Y):\n",
      "[65, 72, 52, 80]\n",
      "[59, 70, 112, 85]\n",
      "[83, 80, 55, 99]\n"
     ]
    }
   ],
   "source": [
    "#answer:\n",
    "rows_X = len(X) # number of rows in matrix X\n",
    "cols_X = len(X[0]) # number of cols in matrix X\n",
    "\n",
    "rows_Y = len(Y) # number of rows in matrix Y\n",
    "cols_Y = len(Y[0]) # number of cols in matrix Y\n",
    "\n",
    "# Check for compatibility (important for valid matrix multiplication)\n",
    "if cols_X != rows_Y:\n",
    "    print(\"Error: The number of columns in X must be equal to the number of rows in Y for matrix multiplication.\")\n",
    "else:\n",
    "    # Initialize the result matrix with zeros\n",
    "    # The result matrix will have dimensions (rows_X x cols_Y)\n",
    "    result = [[0 for _ in range(cols_Y)] for _ in range(rows_X)]\n",
    "\n",
    "    # Iterate over rows of X\n",
    "    for i in range(rows_X):\n",
    "        # Iterate over columns of Y\n",
    "        for j in range(cols_Y):\n",
    "            # Iterate over columns of X (or rows of Y)\n",
    "            # This inner loop performs the dot product for each element of the result matrix\n",
    "            for k in range(cols_X): # or range(rows_Y) - both are equivalent due to compatibility check\n",
    "                result[i][j] += X[i][k] * Y[k][j]\n",
    "\n",
    "    print(\"\\nResult of Matrix Multiplication (X * Y):\")\n",
    "    for row in result:\n",
    "        print(row)"
   ]
  },
  {
   "cell_type": "code",
   "execution_count": null,
   "metadata": {
    "id": "M2_bFbUbZrIe"
   },
   "outputs": [],
   "source": [
    "#desired output:\n",
    "#[[65, 72, 52, 80],\n",
    "# [59, 70, 112, 85],\n",
    "# [83, 80, 55, 99]]"
   ]
  },
  {
   "cell_type": "markdown",
   "metadata": {
    "id": "zxe0vdBVT3CV"
   },
   "source": [
    "5. Compute the determinant of an n x n matrix.\n",
    "\n",
    "Hint: Use\n",
    "> np.linalg.det"
   ]
  },
  {
   "cell_type": "code",
   "execution_count": 43,
   "metadata": {
    "ExecuteTime": {
     "end_time": "2019-06-27T04:58:00.140277Z",
     "start_time": "2019-06-27T04:58:00.135291Z"
    },
    "id": "7SpAPh-5T3CW"
   },
   "outputs": [],
   "source": [
    "matrix = [[-2,2,-3],[-1,1,3],[2,0,-1]]"
   ]
  },
  {
   "cell_type": "code",
   "execution_count": 69,
   "metadata": {
    "id": "rjFQS3POZrIe"
   },
   "outputs": [
    {
     "name": "stdout",
     "output_type": "stream",
     "text": [
      "Determinant of matrix: 18.00\n"
     ]
    }
   ],
   "source": [
    "#answer:\n",
    "determinant = np.linalg.det(matrix)\n",
    "print(f\"Determinant of matrix: {determinant:.2f}\")"
   ]
  },
  {
   "cell_type": "markdown",
   "metadata": {
    "id": "vUC6L5r1T3Ca"
   },
   "source": [
    "6. Compute the inverse of an n x n matrix.\n",
    "\n",
    "Hint: Use\n",
    "> from numpy.linalg import inv"
   ]
  },
  {
   "cell_type": "code",
   "execution_count": 49,
   "metadata": {
    "ExecuteTime": {
     "end_time": "2019-06-27T04:58:33.615832Z",
     "start_time": "2019-06-27T04:58:33.609848Z"
    },
    "id": "qGxUYlMWT3Cb"
   },
   "outputs": [],
   "source": [
    "a = np.array([[1., 2.], [3., 4.]])"
   ]
  },
  {
   "cell_type": "code",
   "execution_count": 51,
   "metadata": {
    "id": "pP_uIj5vZrIe"
   },
   "outputs": [
    {
     "name": "stdout",
     "output_type": "stream",
     "text": [
      "[[-2.   1. ]\n",
      " [ 1.5 -0.5]]\n"
     ]
    }
   ],
   "source": [
    "#answer:\n",
    "from numpy.linalg import inv\n",
    "inverse_mat = np.linalg.inv(a)\n",
    "print(inverse_mat)"
   ]
  },
  {
   "cell_type": "markdown",
   "metadata": {
    "id": "zAw5Q8id96_w"
   },
   "source": [
    "7. (Application)\n",
    "Three customers made the following purchases of three different items at an office supply store:\n",
    "* Customer W bought 2 notebooks, 4 pens and 3 staplers for \\$38.80\n",
    "* Customer X bought 3 notebooks, 3 pens and 2 staplers for \\$32.00\n",
    "* Customer Y bought 4 notebooks, 8 pens and 1 stapler for \\$36.60\n",
    "\n",
    "Based on this, how much did customer Z spend in buying 1 notebook, 2 pens and 4 staplers?"
   ]
  },
  {
   "cell_type": "code",
   "execution_count": 63,
   "metadata": {
    "id": "Pf8GvcN699vP"
   },
   "outputs": [
    {
     "name": "stdout",
     "output_type": "stream",
     "text": [
      "Cost of one notebook (n): $3.30\n",
      "Cost of one pen (p): $1.90\n",
      "Cost of one stapler (s): $8.20\n"
     ]
    }
   ],
   "source": [
    "# answer\n",
    "a= np.array([[2,4,3], [3,3,2], [4,8,1]])\n",
    "p = np.array([38.8, 32,36.6])\n",
    "unit_cost = np.linalg.solve(a,p)\n",
    "n, p , s = unit_cost\n",
    "print(f\"Cost of one notebook (n): ${n:.2f}\")\n",
    "print(f\"Cost of one pen (p): ${p:.2f}\")\n",
    "print(f\"Cost of one stapler (s): ${s:.2f}\")"
   ]
  },
  {
   "cell_type": "code",
   "execution_count": 67,
   "metadata": {
    "id": "B1fBVXXp9-JC"
   },
   "outputs": [
    {
     "name": "stdout",
     "output_type": "stream",
     "text": [
      "Total Spending from Customer Z: $39.90\n"
     ]
    }
   ],
   "source": [
    "# Customer Z quantity\n",
    "z = np.array([1,2,4])\n",
    "# Total Spending of Customer Z \n",
    "z_spend = np.dot(z, unit_cost)\n",
    "print(f\"Total Spending from Customer Z: ${z_spend:.2f}\")\n"
   ]
  },
  {
   "cell_type": "markdown",
   "metadata": {
    "id": "f52z_umQpL1V"
   },
   "source": [
    "\n",
    "\n",
    "---\n",
    "\n",
    "\n",
    "\n",
    "---\n",
    "\n",
    "\n",
    "\n",
    "> > > > > > > > > © 2025 Institute of Data\n",
    "\n",
    "\n",
    "---\n",
    "\n",
    "\n",
    "\n",
    "---\n",
    "\n",
    "\n",
    "\n"
   ]
  }
 ],
 "metadata": {
  "colab": {
   "provenance": []
  },
  "kernelspec": {
   "display_name": "Python [conda env:base] *",
   "language": "python",
   "name": "conda-base-py"
  },
  "language_info": {
   "codemirror_mode": {
    "name": "ipython",
    "version": 3
   },
   "file_extension": ".py",
   "mimetype": "text/x-python",
   "name": "python",
   "nbconvert_exporter": "python",
   "pygments_lexer": "ipython3",
   "version": "3.11.5"
  }
 },
 "nbformat": 4,
 "nbformat_minor": 4
}
