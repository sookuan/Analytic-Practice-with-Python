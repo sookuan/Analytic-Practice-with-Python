{
 "cells": [
  {
   "cell_type": "markdown",
   "metadata": {},
   "source": [
    "## Sample Hypothesis Test"
   ]
  },
  {
   "cell_type": "code",
   "execution_count": 5,
   "metadata": {},
   "outputs": [
    {
     "data": {
      "text/plain": [
       "'C:\\\\Users\\\\SK\\\\Desktop\\\\Python\\\\Python\\\\Python Project\\\\4. Sample of Hypothesis Test'"
      ]
     },
     "execution_count": 5,
     "metadata": {},
     "output_type": "execute_result"
    }
   ],
   "source": [
    "# Check the dataset directory\n",
    "%pwd"
   ]
  },
  {
   "cell_type": "code",
   "execution_count": 6,
   "metadata": {},
   "outputs": [],
   "source": [
    "# Change the working directory\n",
    "import os\n",
    "os.chdir(\"/Users/SK/Desktop/SK/NUS EBA/Semester 2/Statistical BootCamp/WK3\")"
   ]
  },
  {
   "cell_type": "code",
   "execution_count": 7,
   "metadata": {},
   "outputs": [],
   "source": [
    "# Import the functions\n",
    "import pandas as pd\n",
    "import numpy as np\n",
    "from pandas import DataFrame, read_csv"
   ]
  },
  {
   "cell_type": "code",
   "execution_count": 8,
   "metadata": {},
   "outputs": [],
   "source": [
    "# Read the csv file\n",
    "df = pd.read_csv(\"hypothesis1.csv\")"
   ]
  },
  {
   "cell_type": "code",
   "execution_count": 9,
   "metadata": {},
   "outputs": [
    {
     "data": {
      "text/html": [
       "<div>\n",
       "<style scoped>\n",
       "    .dataframe tbody tr th:only-of-type {\n",
       "        vertical-align: middle;\n",
       "    }\n",
       "\n",
       "    .dataframe tbody tr th {\n",
       "        vertical-align: top;\n",
       "    }\n",
       "\n",
       "    .dataframe thead th {\n",
       "        text-align: right;\n",
       "    }\n",
       "</style>\n",
       "<table border=\"1\" class=\"dataframe\">\n",
       "  <thead>\n",
       "    <tr style=\"text-align: right;\">\n",
       "      <th></th>\n",
       "      <th>ID</th>\n",
       "      <th>Price</th>\n",
       "    </tr>\n",
       "  </thead>\n",
       "  <tbody>\n",
       "    <tr>\n",
       "      <th>0</th>\n",
       "      <td>1</td>\n",
       "      <td>8.7</td>\n",
       "    </tr>\n",
       "    <tr>\n",
       "      <th>1</th>\n",
       "      <td>2</td>\n",
       "      <td>29.2</td>\n",
       "    </tr>\n",
       "    <tr>\n",
       "      <th>2</th>\n",
       "      <td>3</td>\n",
       "      <td>30.7</td>\n",
       "    </tr>\n",
       "    <tr>\n",
       "      <th>3</th>\n",
       "      <td>4</td>\n",
       "      <td>4.1</td>\n",
       "    </tr>\n",
       "    <tr>\n",
       "      <th>4</th>\n",
       "      <td>5</td>\n",
       "      <td>23.1</td>\n",
       "    </tr>\n",
       "  </tbody>\n",
       "</table>\n",
       "</div>"
      ],
      "text/plain": [
       "   ID  Price\n",
       "0   1    8.7\n",
       "1   2   29.2\n",
       "2   3   30.7\n",
       "3   4    4.1\n",
       "4   5   23.1"
      ]
     },
     "execution_count": 9,
     "metadata": {},
     "output_type": "execute_result"
    }
   ],
   "source": [
    "df.head()"
   ]
  },
  {
   "cell_type": "code",
   "execution_count": 11,
   "metadata": {},
   "outputs": [
    {
     "data": {
      "text/plain": [
       "<bound method NDFrame.describe of       ID  Price\n",
       "0      1    8.7\n",
       "1      2   29.2\n",
       "2      3   30.7\n",
       "3      4    4.1\n",
       "4      5   23.1\n",
       "5      6   20.1\n",
       "6      7   24.2\n",
       "7      8   10.1\n",
       "8      9   24.5\n",
       "9     10   36.3\n",
       "10    11   18.3\n",
       "11    12   39.2\n",
       "12    13    9.3\n",
       "13    14   23.3\n",
       "14    15   25.8\n",
       "15    16   25.8\n",
       "16    17   23.1\n",
       "17    18    2.0\n",
       "18    19    5.8\n",
       "19    20   21.9\n",
       "20    21   34.5\n",
       "21    22    9.6\n",
       "22    23   14.6\n",
       "23    24   18.2\n",
       "24    25   16.7\n",
       "25    26   23.3\n",
       "26    27    1.0\n",
       "27    28   18.2\n",
       "28    29    2.0\n",
       "29    30   25.1\n",
       "..   ...    ...\n",
       "470  471   20.4\n",
       "471  472   17.5\n",
       "472  473   15.5\n",
       "473  474   26.4\n",
       "474  475    8.9\n",
       "475  476    5.0\n",
       "476  477   18.0\n",
       "477  478   26.7\n",
       "478  479   19.7\n",
       "479  480   17.8\n",
       "480  481   33.6\n",
       "481  482   16.7\n",
       "482  483   28.5\n",
       "483  484   26.4\n",
       "484  485   35.6\n",
       "485  486   19.3\n",
       "486  487   28.2\n",
       "487  488   21.7\n",
       "488  489   21.5\n",
       "489  490   15.0\n",
       "490  491   16.1\n",
       "491  492   21.3\n",
       "492  493   34.7\n",
       "493  494   15.6\n",
       "494  495   16.2\n",
       "495  496    7.0\n",
       "496  497   20.7\n",
       "497  498   19.1\n",
       "498  499    5.9\n",
       "499  500   16.9\n",
       "\n",
       "[500 rows x 2 columns]>"
      ]
     },
     "execution_count": 11,
     "metadata": {},
     "output_type": "execute_result"
    }
   ],
   "source": [
    "df.describe"
   ]
  },
  {
   "cell_type": "markdown",
   "metadata": {},
   "source": [
    "#### One Sample T-Test the mean = 20\n",
    "- Null Hypothesis: mean = 20\n",
    "- Alternate Hypothesis: mean != 20\n"
   ]
  },
  {
   "cell_type": "code",
   "execution_count": 15,
   "metadata": {},
   "outputs": [
    {
     "data": {
      "image/png": "[encoded data removed]",
      "text/plain": [
       "<Figure size 432x288 with 1 Axes>"
      ]
     },
     "metadata": {
      "needs_background": "light"
     },
     "output_type": "display_data"
    }
   ],
   "source": [
    "# Plot the histogram\n",
    "import seaborn as sns\n",
    "import matplotlib.pyplot as plt\n",
    "plt.hist(x=df['Price'], bins =10)\n",
    "plt.show()"
   ]
  },
  {
   "cell_type": "code",
   "execution_count": 19,
   "metadata": {},
   "outputs": [
    {
     "data": {
      "text/plain": [
       "Ttest_1sampResult(statistic=0.5671607199396566, pvalue=0.5708600365433916)"
      ]
     },
     "execution_count": 19,
     "metadata": {},
     "output_type": "execute_result"
    }
   ],
   "source": [
    "# Perform one-sample t-test \n",
    "from scipy import stats\n",
    "stats.ttest_1samp(df['Price'], 20, axis =0)"
   ]
  },
  {
   "cell_type": "markdown",
   "metadata": {},
   "source": [
    "#### Try mean = 15, mean != 15 and mean = 15, mean > 15"
   ]
  },
  {
   "cell_type": "code",
   "execution_count": 21,
   "metadata": {},
   "outputs": [
    {
     "data": {
      "text/plain": [
       "20.23952"
      ]
     },
     "execution_count": 21,
     "metadata": {},
     "output_type": "execute_result"
    }
   ],
   "source": [
    "# Check the mean of the data\n",
    "import statistics\n",
    "statistics.mean(df['Price'])"
   ]
  },
  {
   "cell_type": "code",
   "execution_count": 22,
   "metadata": {},
   "outputs": [
    {
     "data": {
      "text/plain": [
       "Ttest_1sampResult(statistic=12.406688106789415, pvalue=5.385479108540096e-31)"
      ]
     },
     "execution_count": 22,
     "metadata": {},
     "output_type": "execute_result"
    }
   ],
   "source": [
    "#  mean = 15, mean != 15 \n",
    "stats.ttest_1samp(df['Price'], 15, axis = 0)"
   ]
  },
  {
   "cell_type": "code",
   "execution_count": 38,
   "metadata": {},
   "outputs": [
    {
     "name": "stdout",
     "output_type": "stream",
     "text": [
      "reject null hypothesis, mean is greater than 15\n"
     ]
    }
   ],
   "source": [
    "# one-tailed, mean greater than 15\n",
    "m = 15\n",
    "results = stats.ttest_1samp(df['Price'], m)\n",
    "alpha = 0.05\n",
    "if (results[0] > 0) & (results[1]/2 < alpha):\n",
    "    print (\"reject null hypothesis, mean is greater than {}\".format(m))\n",
    "else:\n",
    "    print (\"accept null hypothesis\")"
   ]
  },
  {
   "cell_type": "markdown",
   "metadata": {},
   "source": [
    "#### Two samples t-test"
   ]
  },
  {
   "cell_type": "code",
   "execution_count": 39,
   "metadata": {},
   "outputs": [],
   "source": [
    "df2 = pd.read_csv(\"hypothesis2.csv\")"
   ]
  },
  {
   "cell_type": "code",
   "execution_count": 40,
   "metadata": {},
   "outputs": [
    {
     "data": {
      "text/html": [
       "<div>\n",
       "<style scoped>\n",
       "    .dataframe tbody tr th:only-of-type {\n",
       "        vertical-align: middle;\n",
       "    }\n",
       "\n",
       "    .dataframe tbody tr th {\n",
       "        vertical-align: top;\n",
       "    }\n",
       "\n",
       "    .dataframe thead th {\n",
       "        text-align: right;\n",
       "    }\n",
       "</style>\n",
       "<table border=\"1\" class=\"dataframe\">\n",
       "  <thead>\n",
       "    <tr style=\"text-align: right;\">\n",
       "      <th></th>\n",
       "      <th>ID</th>\n",
       "      <th>Price_sg</th>\n",
       "      <th>Price_us</th>\n",
       "    </tr>\n",
       "  </thead>\n",
       "  <tbody>\n",
       "    <tr>\n",
       "      <th>0</th>\n",
       "      <td>1</td>\n",
       "      <td>8.7</td>\n",
       "      <td>22.427437</td>\n",
       "    </tr>\n",
       "    <tr>\n",
       "      <th>1</th>\n",
       "      <td>2</td>\n",
       "      <td>29.2</td>\n",
       "      <td>37.452648</td>\n",
       "    </tr>\n",
       "    <tr>\n",
       "      <th>2</th>\n",
       "      <td>3</td>\n",
       "      <td>30.7</td>\n",
       "      <td>41.165205</td>\n",
       "    </tr>\n",
       "    <tr>\n",
       "      <th>3</th>\n",
       "      <td>4</td>\n",
       "      <td>4.1</td>\n",
       "      <td>35.244494</td>\n",
       "    </tr>\n",
       "    <tr>\n",
       "      <th>4</th>\n",
       "      <td>5</td>\n",
       "      <td>23.1</td>\n",
       "      <td>35.862442</td>\n",
       "    </tr>\n",
       "  </tbody>\n",
       "</table>\n",
       "</div>"
      ],
      "text/plain": [
       "   ID  Price_sg   Price_us\n",
       "0   1       8.7  22.427437\n",
       "1   2      29.2  37.452648\n",
       "2   3      30.7  41.165205\n",
       "3   4       4.1  35.244494\n",
       "4   5      23.1  35.862442"
      ]
     },
     "execution_count": 40,
     "metadata": {},
     "output_type": "execute_result"
    }
   ],
   "source": [
    "df2.head()"
   ]
  },
  {
   "cell_type": "code",
   "execution_count": 41,
   "metadata": {},
   "outputs": [
    {
     "data": {
      "image/png": "[encoded data removed]",
      "text/plain": [
       "<Figure size 432x288 with 1 Axes>"
      ]
     },
     "metadata": {
      "needs_background": "light"
     },
     "output_type": "display_data"
    }
   ],
   "source": [
    "# Plot the histogram\n",
    "from matplotlib import pyplot\n",
    "pyplot.hist(df2['Price_sg'], alpha = 0.5, label ='Price_SG')\n",
    "pyplot.hist(df2['Price_us'], alpha = 0.5, label = 'Price_US')\n",
    "pyplot.legend(loc='upper right')\n",
    "pyplot.show()"
   ]
  },
  {
   "cell_type": "code",
   "execution_count": 42,
   "metadata": {},
   "outputs": [
    {
     "name": "stdout",
     "output_type": "stream",
     "text": [
      "P-Value:1.0963111628568788e-54 T-Statistics:-16.57612538332381\n"
     ]
    }
   ],
   "source": [
    "# Two samples independent t test\n",
    "# Price SG = Price US ?\n",
    "# Price_sg is not equal to Price_us since p-value < 0.05\n",
    "tStat, pValue = stats.ttest_ind(df2['Price_sg'], df2[\"Price_us\"], equal_var = False)\n",
    "print(\"P-Value:{0} T-Statistics:{1}\".format(pValue, tStat))"
   ]
  },
  {
   "cell_type": "code",
   "execution_count": 43,
   "metadata": {},
   "outputs": [
    {
     "name": "stdout",
     "output_type": "stream",
     "text": [
      "reject null hypothesis, mean of Price_sg is less than mean of Price_us\n"
     ]
    }
   ],
   "source": [
    "# Price SG < Price US\n",
    "results = stats.ttest_ind(df2['Price_sg'], df2[\"Price_us\"], equal_var=False)\n",
    "alpha = 0.05\n",
    "if (results[0] < 0) & (results[1]/2 < alpha):\n",
    "    print (\"reject null hypothesis, mean of {} is less than mean of {}\".format('Price_sg','Price_us'))\n",
    "else:\n",
    "    print (\"accept null hypothesis\")"
   ]
  },
  {
   "cell_type": "code",
   "execution_count": 49,
   "metadata": {},
   "outputs": [
    {
     "data": {
      "text/plain": [
       "20.23952"
      ]
     },
     "execution_count": 49,
     "metadata": {},
     "output_type": "execute_result"
    }
   ],
   "source": [
    "# Check the Price_sg mean and confirm \n",
    "statistics.mean(df2['Price_sg'])"
   ]
  },
  {
   "cell_type": "code",
   "execution_count": 48,
   "metadata": {},
   "outputs": [
    {
     "data": {
      "text/plain": [
       "29.942225269026"
      ]
     },
     "execution_count": 48,
     "metadata": {},
     "output_type": "execute_result"
    }
   ],
   "source": [
    "# Check the Price_us mean and confirm \n",
    "statistics.mean(df2['Price_us'])"
   ]
  },
  {
   "cell_type": "markdown",
   "metadata": {},
   "source": [
    "#### 2 samples t-test with different years"
   ]
  },
  {
   "cell_type": "code",
   "execution_count": 50,
   "metadata": {},
   "outputs": [],
   "source": [
    "df3 = pd.read_csv('hypothesis3.csv')"
   ]
  },
  {
   "cell_type": "code",
   "execution_count": 51,
   "metadata": {},
   "outputs": [
    {
     "data": {
      "text/html": [
       "<div>\n",
       "<style scoped>\n",
       "    .dataframe tbody tr th:only-of-type {\n",
       "        vertical-align: middle;\n",
       "    }\n",
       "\n",
       "    .dataframe tbody tr th {\n",
       "        vertical-align: top;\n",
       "    }\n",
       "\n",
       "    .dataframe thead th {\n",
       "        text-align: right;\n",
       "    }\n",
       "</style>\n",
       "<table border=\"1\" class=\"dataframe\">\n",
       "  <thead>\n",
       "    <tr style=\"text-align: right;\">\n",
       "      <th></th>\n",
       "      <th>ID</th>\n",
       "      <th>Price_sg_2018</th>\n",
       "      <th>Price_sg_2019</th>\n",
       "    </tr>\n",
       "  </thead>\n",
       "  <tbody>\n",
       "    <tr>\n",
       "      <th>0</th>\n",
       "      <td>1</td>\n",
       "      <td>8.695019</td>\n",
       "      <td>19.198756</td>\n",
       "    </tr>\n",
       "    <tr>\n",
       "      <th>1</th>\n",
       "      <td>2</td>\n",
       "      <td>29.157653</td>\n",
       "      <td>14.237896</td>\n",
       "    </tr>\n",
       "    <tr>\n",
       "      <th>2</th>\n",
       "      <td>3</td>\n",
       "      <td>30.748636</td>\n",
       "      <td>21.781418</td>\n",
       "    </tr>\n",
       "    <tr>\n",
       "      <th>3</th>\n",
       "      <td>4</td>\n",
       "      <td>4.072906</td>\n",
       "      <td>24.251063</td>\n",
       "    </tr>\n",
       "    <tr>\n",
       "      <th>4</th>\n",
       "      <td>5</td>\n",
       "      <td>23.134995</td>\n",
       "      <td>19.423781</td>\n",
       "    </tr>\n",
       "  </tbody>\n",
       "</table>\n",
       "</div>"
      ],
      "text/plain": [
       "   ID  Price_sg_2018  Price_sg_2019\n",
       "0   1       8.695019      19.198756\n",
       "1   2      29.157653      14.237896\n",
       "2   3      30.748636      21.781418\n",
       "3   4       4.072906      24.251063\n",
       "4   5      23.134995      19.423781"
      ]
     },
     "execution_count": 51,
     "metadata": {},
     "output_type": "execute_result"
    }
   ],
   "source": [
    "df3.head()"
   ]
  },
  {
   "cell_type": "code",
   "execution_count": 53,
   "metadata": {},
   "outputs": [
    {
     "data": {
      "image/png": "[encoded data removed]",
      "text/plain": [
       "<Figure size 432x288 with 1 Axes>"
      ]
     },
     "metadata": {
      "needs_background": "light"
     },
     "output_type": "display_data"
    }
   ],
   "source": [
    "# Plot the histogram\n",
    "from matplotlib import pyplot\n",
    "pyplot.hist(df3['Price_sg_2018'], alpha = 0.5, label ='Price_SG(2018)')\n",
    "pyplot.hist(df3['Price_sg_2019'], alpha = 0.5, label = 'Price_SG(2019)')\n",
    "pyplot.legend(loc='upper right')\n",
    "pyplot.show()"
   ]
  },
  {
   "cell_type": "code",
   "execution_count": 55,
   "metadata": {},
   "outputs": [
    {
     "name": "stdout",
     "output_type": "stream",
     "text": [
      "P-Value:0.42596310119882297 T-Statistics:0.7965387808342332\n"
     ]
    }
   ],
   "source": [
    "# Perform T-test on Price_sg_2018 and Price_sg_2019\n",
    "# Price_sg_2018  = Price_sg_2019\n",
    "tStat, pValue = stats.ttest_ind(df3['Price_sg_2018'], df3[\"Price_sg_2019\"], equal_var = False)\n",
    "print(\"P-Value:{0} T-Statistics:{1}\".format(pValue, tStat))"
   ]
  },
  {
   "cell_type": "code",
   "execution_count": 56,
   "metadata": {},
   "outputs": [
    {
     "data": {
      "text/plain": [
       "20.238379274762"
      ]
     },
     "execution_count": 56,
     "metadata": {},
     "output_type": "execute_result"
    }
   ],
   "source": [
    "# Check the Price_sg_2018 mean and confirm \n",
    "statistics.mean(df3['Price_sg_2018'])"
   ]
  },
  {
   "cell_type": "code",
   "execution_count": 57,
   "metadata": {},
   "outputs": [
    {
     "data": {
      "text/plain": [
       "19.854693132576"
      ]
     },
     "execution_count": 57,
     "metadata": {},
     "output_type": "execute_result"
    }
   ],
   "source": [
    "# Check the Price_sg_2019 mean and confirm \n",
    "statistics.mean(df3['Price_sg_2019'])"
   ]
  }
 ],
 "metadata": {
  "kernelspec": {
   "display_name": "Python 3",
   "language": "python",
   "name": "python3"
  },
  "language_info": {
   "codemirror_mode": {
    "name": "ipython",
    "version": 3
   },
   "file_extension": ".py",
   "mimetype": "text/x-python",
   "name": "python",
   "nbconvert_exporter": "python",
   "pygments_lexer": "ipython3",
   "version": "3.7.3"
  }
 },
 "nbformat": 4,
 "nbformat_minor": 2
}
