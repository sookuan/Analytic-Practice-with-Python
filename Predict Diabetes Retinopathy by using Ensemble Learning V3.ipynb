{
 "cells": [
  {
   "cell_type": "code",
   "execution_count": 1,
   "metadata": {},
   "outputs": [],
   "source": [
    "# Import the functions\n",
    "import pandas as pd\n",
    "import numpy as np\n",
    "from pandas import DataFrame, read_csv\n",
    "import pandas as pd\n",
    "import statistics as stat\n",
    "import numpy as np\n",
    "import matplotlib.pyplot as plt\n",
    "import seaborn as sns\n",
    "import io\n",
    "import pydotplus\n",
    "from sklearn.model_selection import train_test_split\n",
    "from sklearn.linear_model import LogisticRegression\n",
    "from sklearn import metrics\n",
    "from sklearn.neighbors import KNeighborsClassifier\n",
    "from sklearn.metrics import confusion_matrix\n",
    "from sklearn.tree import DecisionTreeClassifier\n",
    "from sklearn.tree import export_graphviz\n",
    "from IPython.display import Image\n",
    "from statistics import mode \n",
    "from sklearn.ensemble import RandomForestRegressor\n",
    "from sklearn import svm\n",
    "from sklearn.ensemble import GradientBoostingClassifier\n",
    "from sklearn.ensemble import RandomForestClassifier\n",
    "from xgboost import XGBClassifier\n",
    "import xgboost as xgb\n",
    "from sklearn.model_selection import GridSearchCV"
   ]
  },
  {
   "cell_type": "code",
   "execution_count": 2,
   "metadata": {},
   "outputs": [],
   "source": [
    "# Change the working directory\n",
    "import os\n",
    "os.chdir(\"/Users/SK/Desktop/SK/NUS EBA/Semester 4/Advance Analytic Project/Diabetic Retinopathy\")"
   ]
  },
  {
   "cell_type": "code",
   "execution_count": 3,
   "metadata": {},
   "outputs": [],
   "source": [
    "# Read the CSV file\n",
    "df = pd.read_csv(\"train.csv\")"
   ]
  },
  {
   "cell_type": "code",
   "execution_count": 4,
   "metadata": {},
   "outputs": [
    {
     "data": {
      "text/plain": [
       "q          category\n",
       "ps         category\n",
       "nma.a         int64\n",
       "nma.b         int64\n",
       "nma.c         int64\n",
       "nma.d         int64\n",
       "nma.e         int64\n",
       "nma.f         int64\n",
       "nex.a       float64\n",
       "nex.b       float64\n",
       "nex.c       float64\n",
       "nex.d       float64\n",
       "nex.e       float64\n",
       "nma.f.1     float64\n",
       "nma.g       float64\n",
       "nma.h       float64\n",
       "dd          float64\n",
       "dm          float64\n",
       "amfm       category\n",
       "Class      category\n",
       "dtype: object"
      ]
     },
     "execution_count": 4,
     "metadata": {},
     "output_type": "execute_result"
    }
   ],
   "source": [
    "# Convert the Class, amfm, ps, q to factor\n",
    "df['Class'] = df['Class'].astype('category')\n",
    "df['amfm'] = df['amfm'].astype('category')\n",
    "df['ps'] = df['ps'].astype('category')\n",
    "df['q'] = df['q'].astype('category')\n",
    "df.dtypes"
   ]
  },
  {
   "cell_type": "code",
   "execution_count": 5,
   "metadata": {},
   "outputs": [],
   "source": [
    "Y = df[\"Class\"]"
   ]
  },
  {
   "cell_type": "code",
   "execution_count": 6,
   "metadata": {},
   "outputs": [],
   "source": [
    "# Standardize the data\n",
    "from sklearn import preprocessing\n",
    "X1 =  pd.DataFrame(df.drop([\"Class\",\"amfm\",\"ps\",\"q\"],axis = 1))\n",
    "X1.columns\n",
    "scaler = preprocessing.StandardScaler().fit(X1)\n",
    "# Transform the data\n",
    "X1_trans = scaler.transform(X1)"
   ]
  },
  {
   "cell_type": "code",
   "execution_count": 7,
   "metadata": {},
   "outputs": [],
   "source": [
    "X1_trans_pd=pd.DataFrame(X1_trans, columns=X1.columns)\n",
    "X2 = df[['amfm','q','ps' ]].copy()\n",
    "X= pd.concat([X1_trans_pd, X2], axis=1)"
   ]
  },
  {
   "cell_type": "code",
   "execution_count": 8,
   "metadata": {
    "scrolled": false
   },
   "outputs": [
    {
     "data": {
      "text/plain": [
       "nma.a       float64\n",
       "nma.b       float64\n",
       "nma.c       float64\n",
       "nma.d       float64\n",
       "nma.e       float64\n",
       "nma.f       float64\n",
       "nex.a       float64\n",
       "nex.b       float64\n",
       "nex.c       float64\n",
       "nex.d       float64\n",
       "nex.e       float64\n",
       "nma.f.1     float64\n",
       "nma.g       float64\n",
       "nma.h       float64\n",
       "dd          float64\n",
       "dm          float64\n",
       "amfm       category\n",
       "q          category\n",
       "ps         category\n",
       "dtype: object"
      ]
     },
     "execution_count": 8,
     "metadata": {},
     "output_type": "execute_result"
    }
   ],
   "source": [
    "X.dtypes"
   ]
  },
  {
   "cell_type": "code",
   "execution_count": 9,
   "metadata": {},
   "outputs": [],
   "source": [
    "X1_trans \n",
    "X1_trans_pd=pd.DataFrame(X1_trans, columns=X1.columns)"
   ]
  },
  {
   "cell_type": "code",
   "execution_count": 10,
   "metadata": {},
   "outputs": [
    {
     "data": {
      "text/html": [
       "<div>\n",
       "<style scoped>\n",
       "    .dataframe tbody tr th:only-of-type {\n",
       "        vertical-align: middle;\n",
       "    }\n",
       "\n",
       "    .dataframe tbody tr th {\n",
       "        vertical-align: top;\n",
       "    }\n",
       "\n",
       "    .dataframe thead th {\n",
       "        text-align: right;\n",
       "    }\n",
       "</style>\n",
       "<table border=\"1\" class=\"dataframe\">\n",
       "  <thead>\n",
       "    <tr style=\"text-align: right;\">\n",
       "      <th></th>\n",
       "      <th>count</th>\n",
       "      <th>mean</th>\n",
       "      <th>std</th>\n",
       "      <th>min</th>\n",
       "      <th>25%</th>\n",
       "      <th>50%</th>\n",
       "      <th>75%</th>\n",
       "      <th>max</th>\n",
       "    </tr>\n",
       "  </thead>\n",
       "  <tbody>\n",
       "    <tr>\n",
       "      <th>nma.a</th>\n",
       "      <td>920.0</td>\n",
       "      <td>-1.542245e-16</td>\n",
       "      <td>1.000544</td>\n",
       "      <td>-1.482807</td>\n",
       "      <td>-0.886764</td>\n",
       "      <td>-0.092041</td>\n",
       "      <td>0.662946</td>\n",
       "      <td>4.318673</td>\n",
       "    </tr>\n",
       "    <tr>\n",
       "      <th>nma.b</th>\n",
       "      <td>920.0</td>\n",
       "      <td>1.023336e-16</td>\n",
       "      <td>1.000544</td>\n",
       "      <td>-1.512382</td>\n",
       "      <td>-0.878549</td>\n",
       "      <td>-0.075693</td>\n",
       "      <td>0.684908</td>\n",
       "      <td>4.023099</td>\n",
       "    </tr>\n",
       "    <tr>\n",
       "      <th>nma.c</th>\n",
       "      <td>920.0</td>\n",
       "      <td>1.689470e-17</td>\n",
       "      <td>1.000544</td>\n",
       "      <td>-1.516909</td>\n",
       "      <td>-0.892499</td>\n",
       "      <td>-0.134287</td>\n",
       "      <td>0.713127</td>\n",
       "      <td>3.478371</td>\n",
       "    </tr>\n",
       "    <tr>\n",
       "      <th>nma.d</th>\n",
       "      <td>920.0</td>\n",
       "      <td>1.395019e-16</td>\n",
       "      <td>1.000544</td>\n",
       "      <td>-1.497394</td>\n",
       "      <td>-0.885115</td>\n",
       "      <td>-0.104761</td>\n",
       "      <td>0.723616</td>\n",
       "      <td>2.968636</td>\n",
       "    </tr>\n",
       "    <tr>\n",
       "      <th>nma.e</th>\n",
       "      <td>920.0</td>\n",
       "      <td>-5.430439e-17</td>\n",
       "      <td>1.000544</td>\n",
       "      <td>-1.436535</td>\n",
       "      <td>-0.917441</td>\n",
       "      <td>-0.164756</td>\n",
       "      <td>0.743658</td>\n",
       "      <td>2.975759</td>\n",
       "    </tr>\n",
       "    <tr>\n",
       "      <th>nma.f</th>\n",
       "      <td>920.0</td>\n",
       "      <td>-1.544658e-17</td>\n",
       "      <td>1.000544</td>\n",
       "      <td>-1.348449</td>\n",
       "      <td>-0.878000</td>\n",
       "      <td>-0.205931</td>\n",
       "      <td>0.734966</td>\n",
       "      <td>3.759279</td>\n",
       "    </tr>\n",
       "    <tr>\n",
       "      <th>nex.a</th>\n",
       "      <td>920.0</td>\n",
       "      <td>3.535819e-17</td>\n",
       "      <td>1.000544</td>\n",
       "      <td>-1.084670</td>\n",
       "      <td>-0.707664</td>\n",
       "      <td>-0.333281</td>\n",
       "      <td>0.395538</td>\n",
       "      <td>5.825657</td>\n",
       "    </tr>\n",
       "    <tr>\n",
       "      <th>nex.b</th>\n",
       "      <td>920.0</td>\n",
       "      <td>1.462598e-16</td>\n",
       "      <td>1.000544</td>\n",
       "      <td>-1.067810</td>\n",
       "      <td>-0.698094</td>\n",
       "      <td>-0.273364</td>\n",
       "      <td>0.351774</td>\n",
       "      <td>6.723541</td>\n",
       "    </tr>\n",
       "    <tr>\n",
       "      <th>nex.c</th>\n",
       "      <td>920.0</td>\n",
       "      <td>5.020139e-17</td>\n",
       "      <td>1.000544</td>\n",
       "      <td>-0.754724</td>\n",
       "      <td>-0.645293</td>\n",
       "      <td>-0.361975</td>\n",
       "      <td>0.257325</td>\n",
       "      <td>8.641447</td>\n",
       "    </tr>\n",
       "    <tr>\n",
       "      <th>nex.d</th>\n",
       "      <td>920.0</td>\n",
       "      <td>3.086299e-17</td>\n",
       "      <td>1.000544</td>\n",
       "      <td>-0.448681</td>\n",
       "      <td>-0.428913</td>\n",
       "      <td>-0.327075</td>\n",
       "      <td>0.016236</td>\n",
       "      <td>14.464839</td>\n",
       "    </tr>\n",
       "    <tr>\n",
       "      <th>nex.e</th>\n",
       "      <td>920.0</td>\n",
       "      <td>-3.849578e-17</td>\n",
       "      <td>1.000544</td>\n",
       "      <td>-0.212545</td>\n",
       "      <td>-0.212545</td>\n",
       "      <td>-0.203575</td>\n",
       "      <td>-0.138166</td>\n",
       "      <td>19.590951</td>\n",
       "    </tr>\n",
       "    <tr>\n",
       "      <th>nma.f.1</th>\n",
       "      <td>920.0</td>\n",
       "      <td>3.855611e-17</td>\n",
       "      <td>1.000544</td>\n",
       "      <td>-0.185300</td>\n",
       "      <td>-0.185300</td>\n",
       "      <td>-0.184082</td>\n",
       "      <td>-0.149507</td>\n",
       "      <td>18.937711</td>\n",
       "    </tr>\n",
       "    <tr>\n",
       "      <th>nma.g</th>\n",
       "      <td>920.0</td>\n",
       "      <td>-4.253844e-17</td>\n",
       "      <td>1.000544</td>\n",
       "      <td>-0.203116</td>\n",
       "      <td>-0.203116</td>\n",
       "      <td>-0.203116</td>\n",
       "      <td>-0.190103</td>\n",
       "      <td>15.794570</td>\n",
       "    </tr>\n",
       "    <tr>\n",
       "      <th>nma.h</th>\n",
       "      <td>920.0</td>\n",
       "      <td>8.266334e-18</td>\n",
       "      <td>1.000544</td>\n",
       "      <td>-0.208327</td>\n",
       "      <td>-0.208327</td>\n",
       "      <td>-0.208327</td>\n",
       "      <td>-0.183230</td>\n",
       "      <td>14.041831</td>\n",
       "    </tr>\n",
       "    <tr>\n",
       "      <th>dd</th>\n",
       "      <td>920.0</td>\n",
       "      <td>-2.089150e-15</td>\n",
       "      <td>1.000544</td>\n",
       "      <td>-5.504401</td>\n",
       "      <td>-0.729192</td>\n",
       "      <td>0.018731</td>\n",
       "      <td>0.743700</td>\n",
       "      <td>2.452611</td>\n",
       "    </tr>\n",
       "    <tr>\n",
       "      <th>dm</th>\n",
       "      <td>920.0</td>\n",
       "      <td>4.233329e-16</td>\n",
       "      <td>1.000544</td>\n",
       "      <td>-2.809711</td>\n",
       "      <td>-0.702824</td>\n",
       "      <td>-0.085058</td>\n",
       "      <td>0.641072</td>\n",
       "      <td>6.090805</td>\n",
       "    </tr>\n",
       "  </tbody>\n",
       "</table>\n",
       "</div>"
      ],
      "text/plain": [
       "         count          mean       std       min       25%       50%  \\\n",
       "nma.a    920.0 -1.542245e-16  1.000544 -1.482807 -0.886764 -0.092041   \n",
       "nma.b    920.0  1.023336e-16  1.000544 -1.512382 -0.878549 -0.075693   \n",
       "nma.c    920.0  1.689470e-17  1.000544 -1.516909 -0.892499 -0.134287   \n",
       "nma.d    920.0  1.395019e-16  1.000544 -1.497394 -0.885115 -0.104761   \n",
       "nma.e    920.0 -5.430439e-17  1.000544 -1.436535 -0.917441 -0.164756   \n",
       "nma.f    920.0 -1.544658e-17  1.000544 -1.348449 -0.878000 -0.205931   \n",
       "nex.a    920.0  3.535819e-17  1.000544 -1.084670 -0.707664 -0.333281   \n",
       "nex.b    920.0  1.462598e-16  1.000544 -1.067810 -0.698094 -0.273364   \n",
       "nex.c    920.0  5.020139e-17  1.000544 -0.754724 -0.645293 -0.361975   \n",
       "nex.d    920.0  3.086299e-17  1.000544 -0.448681 -0.428913 -0.327075   \n",
       "nex.e    920.0 -3.849578e-17  1.000544 -0.212545 -0.212545 -0.203575   \n",
       "nma.f.1  920.0  3.855611e-17  1.000544 -0.185300 -0.185300 -0.184082   \n",
       "nma.g    920.0 -4.253844e-17  1.000544 -0.203116 -0.203116 -0.203116   \n",
       "nma.h    920.0  8.266334e-18  1.000544 -0.208327 -0.208327 -0.208327   \n",
       "dd       920.0 -2.089150e-15  1.000544 -5.504401 -0.729192  0.018731   \n",
       "dm       920.0  4.233329e-16  1.000544 -2.809711 -0.702824 -0.085058   \n",
       "\n",
       "              75%        max  \n",
       "nma.a    0.662946   4.318673  \n",
       "nma.b    0.684908   4.023099  \n",
       "nma.c    0.713127   3.478371  \n",
       "nma.d    0.723616   2.968636  \n",
       "nma.e    0.743658   2.975759  \n",
       "nma.f    0.734966   3.759279  \n",
       "nex.a    0.395538   5.825657  \n",
       "nex.b    0.351774   6.723541  \n",
       "nex.c    0.257325   8.641447  \n",
       "nex.d    0.016236  14.464839  \n",
       "nex.e   -0.138166  19.590951  \n",
       "nma.f.1 -0.149507  18.937711  \n",
       "nma.g   -0.190103  15.794570  \n",
       "nma.h   -0.183230  14.041831  \n",
       "dd       0.743700   2.452611  \n",
       "dm       0.641072   6.090805  "
      ]
     },
     "execution_count": 10,
     "metadata": {},
     "output_type": "execute_result"
    }
   ],
   "source": [
    "X1_trans_pd.describe().T"
   ]
  },
  {
   "cell_type": "code",
   "execution_count": 11,
   "metadata": {},
   "outputs": [],
   "source": [
    "#importing train_test_split\n",
    "from sklearn.model_selection import train_test_split\n",
    "X_train,X_test,y_train,y_test = train_test_split(X,Y,test_size=1/3,random_state=42, stratify=Y)"
   ]
  },
  {
   "cell_type": "code",
   "execution_count": 12,
   "metadata": {},
   "outputs": [],
   "source": [
    "# Try Kneighbors\n",
    "from sklearn.neighbors import KNeighborsClassifier\n",
    "\n",
    "\n",
    "test_scores = []\n",
    "train_scores = []\n",
    "\n",
    "for i in range(1,15):\n",
    "\n",
    "    knn = KNeighborsClassifier(i)\n",
    "    knn.fit(X_train,y_train)\n",
    "    \n",
    "    train_scores.append(knn.score(X_train,y_train))\n",
    "    test_scores.append(knn.score(X_test,y_test))"
   ]
  },
  {
   "cell_type": "code",
   "execution_count": 13,
   "metadata": {
    "scrolled": true
   },
   "outputs": [
    {
     "name": "stdout",
     "output_type": "stream",
     "text": [
      "Max train score 100.0 % and k = [1]\n"
     ]
    }
   ],
   "source": [
    "max_train_score = max(train_scores)\n",
    "train_scores_ind = [i for i, v in enumerate(train_scores) if v == max_train_score]\n",
    "print('Max train score {} % and k = {}'.format(max_train_score*100,list(map(lambda x: x+1, train_scores_ind))))"
   ]
  },
  {
   "cell_type": "code",
   "execution_count": 14,
   "metadata": {},
   "outputs": [
    {
     "name": "stdout",
     "output_type": "stream",
     "text": [
      "Max test score 62.866449511400646 % and k = [13]\n"
     ]
    }
   ],
   "source": [
    "max_test_score = max(test_scores)\n",
    "test_scores_ind = [i for i, v in enumerate(test_scores) if v == max_test_score]\n",
    "print('Max test score {} % and k = {}'.format(max_test_score*100,list(map(lambda x: x+1, test_scores_ind))))"
   ]
  },
  {
   "cell_type": "code",
   "execution_count": 15,
   "metadata": {},
   "outputs": [
    {
     "name": "stderr",
     "output_type": "stream",
     "text": [
      "C:\\Users\\SK\\Anaconda3\\lib\\site-packages\\sklearn\\model_selection\\_search.py:849: FutureWarning: The parameter 'iid' is deprecated in 0.22 and will be removed in 0.24.\n",
      "  \"removed in 0.24.\", FutureWarning\n"
     ]
    },
    {
     "data": {
      "text/plain": [
       "({'learning_rate': 0.1, 'n_estimators': 1000}, 0.680381180860989)"
      ]
     },
     "execution_count": 15,
     "metadata": {},
     "output_type": "execute_result"
    }
   ],
   "source": [
    "# Find the optimum parameter for Gradient boosting, XGBoost.\n",
    "# 1.1 Gradient Boosting (learning rate and number of estimators)\n",
    "p_test3 = {'learning_rate':[0.15,0.1,0.05,0.01,0.005,0.001], 'n_estimators':[100,250,500,750,1000,1250,1500,1750]}\n",
    "\n",
    "tuning = GridSearchCV(estimator =GradientBoostingClassifier(max_depth=4, min_samples_split=2, min_samples_leaf=1,subsample=1,max_features='sqrt', random_state=10), \n",
    "            param_grid = p_test3, scoring='accuracy',n_jobs=4,iid=False, cv=5)\n",
    "tuning.fit(X_train,y_train)\n",
    "tuning.best_params_, tuning.best_score_"
   ]
  },
  {
   "cell_type": "code",
   "execution_count": 16,
   "metadata": {},
   "outputs": [
    {
     "name": "stderr",
     "output_type": "stream",
     "text": [
      "C:\\Users\\SK\\Anaconda3\\lib\\site-packages\\sklearn\\model_selection\\_search.py:849: FutureWarning: The parameter 'iid' is deprecated in 0.22 and will be removed in 0.24.\n",
      "  \"removed in 0.24.\", FutureWarning\n"
     ]
    },
    {
     "data": {
      "text/plain": [
       "({'max_depth': 2}, 0.6819538851126217)"
      ]
     },
     "execution_count": 16,
     "metadata": {},
     "output_type": "execute_result"
    }
   ],
   "source": [
    "# 1.2 Gradient Boosting (Max depth)\n",
    "p_test2 = {'max_depth':[2,3,4,5,6,7] }\n",
    "tuning = GridSearchCV(estimator =GradientBoostingClassifier(learning_rate=0.1,n_estimators=1000, min_samples_split=2, min_samples_leaf=1, subsample=1,max_features='sqrt', random_state=10), \n",
    "            param_grid = p_test2, scoring='accuracy',n_jobs=4,iid=False, cv=5)\n",
    "tuning.fit(X_train,y_train)\n",
    "tuning.best_params_, tuning.best_score_"
   ]
  },
  {
   "cell_type": "code",
   "execution_count": 17,
   "metadata": {},
   "outputs": [],
   "source": [
    " # 1. Max Voting\n",
    "\n",
    "model1 = RandomForestClassifier()\n",
    "model2 = GradientBoostingClassifier(learning_rate=0.1, n_estimators = 1000, max_depth=2)\n",
    "model3= LogisticRegression()\n",
    "model1.fit(X_train,y_train)\n",
    "model2.fit(X_train,y_train)\n",
    "model3.fit(X_train,y_train)\n",
    "\n",
    "pred1=model1.predict(X_test)\n",
    "pred2=model2.predict(X_test)\n",
    "pred3=model3.predict(X_test)\n",
    "\n",
    "final_pred = np.array([])\n",
    "for i in range(0,len(X_test)):\n",
    "    final_pred = np.append(final_pred, mode([pred1[i], pred2[i], pred3[i]]))"
   ]
  },
  {
   "cell_type": "code",
   "execution_count": 18,
   "metadata": {
    "scrolled": true
   },
   "outputs": [
    {
     "name": "stdout",
     "output_type": "stream",
     "text": [
      "True Negative =112\n",
      "False Negative =47\n",
      "True Positive =114\n",
      "False Positive =34\n"
     ]
    }
   ],
   "source": [
    "trainCM1 = confusion_matrix(y_test, final_pred)\n",
    "print('True Negative ='+ str(trainCM1[0,0]))\n",
    "print('False Negative ='+ str(trainCM1[1,0]))\n",
    "print('True Positive ='+ str(trainCM1[1,1]))\n",
    "print('False Positive ='+ str(trainCM1[0,1]))"
   ]
  },
  {
   "cell_type": "code",
   "execution_count": 19,
   "metadata": {
    "scrolled": true
   },
   "outputs": [
    {
     "name": "stdout",
     "output_type": "stream",
     "text": [
      "Testing Accuracy Percentage = 73.61563517915309\n",
      "Training Precision = 0.7702702702702703\n",
      "Training Specificity = 0.7671232876712328\n",
      "Recall/True Positive Rate/Sensitivity = 0.7080745341614907\n"
     ]
    }
   ],
   "source": [
    "print('Testing Accuracy Percentage =',metrics.accuracy_score(final_pred, y_test)*100)\n",
    "print('Training Precision =', trainCM1[1,1]/(trainCM1[1,1]+trainCM1[0,1])) #Precision=tp/(tp+fp)\n",
    "print('Training Specificity =',trainCM1[0,0]/(trainCM1[0,0]+trainCM1[0,1]) )#True negative rate/Specificity=tn/(tn+fp)\n",
    "print('Recall/True Positive Rate/Sensitivity =', trainCM1[1,1]/(trainCM1[1,1]+trainCM1[1,0])) #Recall=tp/(tp+fn)"
   ]
  },
  {
   "cell_type": "code",
   "execution_count": 20,
   "metadata": {},
   "outputs": [],
   "source": [
    "# 2. Averaging\n",
    "model1 = RandomForestClassifier()\n",
    "model2 = GradientBoostingClassifier(learning_rate=0.1, n_estimators = 1000, max_depth=2)\n",
    "model3= LogisticRegression()\n",
    "\n",
    "model1.fit(X_train ,y_train)\n",
    "model2.fit(X_train ,y_train)\n",
    "model3.fit(X_train ,y_train)\n",
    "\n",
    "pred1=model1.predict_proba(X_test )[:,1]\n",
    "pred2=model2.predict_proba(X_test )[:,1]\n",
    "pred3=model3.predict_proba(X_test )[:,1]\n",
    "\n",
    "finalpred=(pred1+pred2+pred3)/3\n",
    "threshold = 0.5\n",
    "preds = np.where(finalpred > threshold , 1,0)"
   ]
  },
  {
   "cell_type": "code",
   "execution_count": 21,
   "metadata": {
    "scrolled": true
   },
   "outputs": [
    {
     "name": "stdout",
     "output_type": "stream",
     "text": [
      "True Negative =107\n",
      "False Negative =45\n",
      "True Positive =116\n",
      "False Positive =39\n"
     ]
    }
   ],
   "source": [
    "trainCM2 = confusion_matrix(y_test, preds)\n",
    "print('True Negative ='+ str(trainCM2[0,0]))\n",
    "print('False Negative ='+ str(trainCM2[1,0]))\n",
    "print('True Positive ='+ str(trainCM2[1,1]))\n",
    "print('False Positive ='+ str(trainCM2[0,1]))"
   ]
  },
  {
   "cell_type": "code",
   "execution_count": 22,
   "metadata": {
    "scrolled": true
   },
   "outputs": [
    {
     "name": "stdout",
     "output_type": "stream",
     "text": [
      "Testing Accuracy Percentage = 72.63843648208469\n",
      "Training Precision = 0.7483870967741936\n",
      "Training Specificity = 0.7328767123287672\n",
      "Recall/True Positive Rate/Sensitivity = 0.7204968944099379\n"
     ]
    }
   ],
   "source": [
    "print('Testing Accuracy Percentage =',metrics.accuracy_score(preds, y_test)*100)\n",
    "print('Training Precision =', trainCM2[1,1]/(trainCM2[1,1]+trainCM2[0,1])) #Precision=tp/(tp+fp)\n",
    "print('Training Specificity =',trainCM2[0,0]/(trainCM2[0,0]+trainCM2[0,1]) )#True negative rate/Specificity=tn/(tn+fp)\n",
    "print('Recall/True Positive Rate/Sensitivity =', trainCM2[1,1]/(trainCM2[1,1]+trainCM2[1,0])) #Recall=tp/(tp+fn)"
   ]
  },
  {
   "cell_type": "code",
   "execution_count": 23,
   "metadata": {},
   "outputs": [],
   "source": [
    "#advanced ensemble technique\n",
    "#importing train_test_split\n",
    "from sklearn.model_selection import train_test_split\n",
    "X_train,X_test,Y_train,Y_test = train_test_split(X,Y,test_size=1/3,random_state=42, stratify=Y)\n",
    "X_train, X_val, Y_train, Y_val = train_test_split(X_train, Y_train, test_size=0.2, random_state=1) \n",
    "\n",
    "model1 = RandomForestClassifier()\n",
    "model1.fit(X_train, Y_train)\n",
    "val_pred1=model1.predict(X_val)\n",
    "test_pred1=model1.predict(X_test)\n",
    "val_pred1=pd.DataFrame(val_pred1)\n",
    "test_pred1=pd.DataFrame(test_pred1)\n",
    "\n",
    "model2 = GradientBoostingClassifier(learning_rate=0.1, n_estimators = 1000, max_depth=2)\n",
    "model2.fit(X_train,Y_train)\n",
    "val_pred2=model2.predict(X_val)\n",
    "test_pred2=model2.predict(X_test)\n",
    "val_pred2=pd.DataFrame(val_pred2)\n",
    "test_pred2=pd.DataFrame(test_pred2)"
   ]
  },
  {
   "cell_type": "code",
   "execution_count": 24,
   "metadata": {},
   "outputs": [],
   "source": [
    "Xval = pd.DataFrame(X_val)\n",
    "Xtest = pd.DataFrame(X_test)\n",
    "\n",
    "Xval=Xval.reset_index(drop=True) \n",
    "Xtest=Xtest.reset_index(drop=True) \n",
    "\n",
    "df_val=pd.concat([Xval,val_pred1,val_pred2],axis=1)\n",
    "df_test=pd.concat([Xtest, test_pred1,test_pred2],axis=1)\n",
    "\n",
    "model = LogisticRegression()\n",
    "model.fit(df_val,Y_val)\n",
    "pred1=model.predict_proba(df_test)[:,1]\n",
    "threshold = 0.5\n",
    "prediction = np.where(pred1 > threshold , 1,0)"
   ]
  },
  {
   "cell_type": "code",
   "execution_count": 25,
   "metadata": {
    "scrolled": true
   },
   "outputs": [
    {
     "name": "stdout",
     "output_type": "stream",
     "text": [
      "True Negative =97\n",
      "False Negative =43\n",
      "True Positive =118\n",
      "False Positive =49\n"
     ]
    }
   ],
   "source": [
    "trainCM3 = confusion_matrix(Y_test, prediction)\n",
    "print('True Negative ='+ str(trainCM3[0,0]))\n",
    "print('False Negative ='+ str(trainCM3[1,0]))\n",
    "print('True Positive ='+ str(trainCM3[1,1]))\n",
    "print('False Positive ='+ str(trainCM3[0,1]))"
   ]
  },
  {
   "cell_type": "code",
   "execution_count": 26,
   "metadata": {},
   "outputs": [
    {
     "name": "stdout",
     "output_type": "stream",
     "text": [
      "Testing Accuracy Percentage = 70.03257328990227\n",
      "Training Precision = 0.7065868263473054\n",
      "Training Specificity = 0.6643835616438356\n",
      "Recall/True Positive Rate/Sensitivity = 0.7329192546583851\n"
     ]
    }
   ],
   "source": [
    "print('Testing Accuracy Percentage =',metrics.accuracy_score(prediction, Y_test)*100)\n",
    "print('Training Precision =', trainCM3[1,1]/(trainCM3[1,1]+trainCM3[0,1])) #Precision=tp/(tp+fp)\n",
    "print('Training Specificity =',trainCM3[0,0]/(trainCM3[0,0]+trainCM3[0,1]) )#True negative rate/Specificity=tn/(tn+fp)\n",
    "print('Recall/True Positive Rate/Sensitivity =', trainCM3[1,1]/(trainCM3[1,1]+trainCM3[1,0])) #Recall=tp/(tp+fn)"
   ]
  }
 ],
 "metadata": {
  "kernelspec": {
   "display_name": "Python 3",
   "language": "python",
   "name": "python3"
  },
  "language_info": {
   "codemirror_mode": {
    "name": "ipython",
    "version": 3
   },
   "file_extension": ".py",
   "mimetype": "text/x-python",
   "name": "python",
   "nbconvert_exporter": "python",
   "pygments_lexer": "ipython3",
   "version": "3.7.3"
  }
 },
 "nbformat": 4,
 "nbformat_minor": 2
}
