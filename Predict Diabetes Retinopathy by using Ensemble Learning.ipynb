{
 "cells": [
  {
   "cell_type": "markdown",
   "metadata": {},
   "source": [
    "## Predict the Diabetes Retinopathy (DR) by using Ensemble method\n",
    "### Using the features from image to predict the patients whether have DR"
   ]
  },
  {
   "cell_type": "code",
   "execution_count": 1,
   "metadata": {},
   "outputs": [],
   "source": [
    "# Import the functions\n",
    "import pandas as pd\n",
    "import numpy as np\n",
    "from pandas import DataFrame, read_csv\n",
    "import pandas as pd\n",
    "import statistics as stat\n",
    "import numpy as np\n",
    "import matplotlib.pyplot as plt\n",
    "import seaborn as sns\n",
    "import io\n",
    "import pydotplus\n",
    "from sklearn.model_selection import train_test_split\n",
    "from sklearn.linear_model import LogisticRegression\n",
    "from sklearn import metrics\n",
    "from sklearn.neighbors import KNeighborsClassifier\n",
    "from sklearn.metrics import confusion_matrix\n",
    "from sklearn.tree import DecisionTreeClassifier\n",
    "from sklearn.tree import export_graphviz\n",
    "from IPython.display import Image\n",
    "from statistics import mode "
   ]
  },
  {
   "cell_type": "code",
   "execution_count": 2,
   "metadata": {},
   "outputs": [],
   "source": [
    "# Change the working directory\n",
    "import os\n",
    "os.chdir(\"/Users/SK/Desktop/SK/NUS EBA/Semester 4/Advance Analytic Project/Diabetic Retinopathy\")"
   ]
  },
  {
   "cell_type": "code",
   "execution_count": 3,
   "metadata": {},
   "outputs": [],
   "source": [
    "# Read the CSV file\n",
    "df = pd.read_csv(\"train.csv\")"
   ]
  },
  {
   "cell_type": "code",
   "execution_count": 4,
   "metadata": {},
   "outputs": [
    {
     "data": {
      "text/plain": [
       "(920, 20)"
      ]
     },
     "execution_count": 4,
     "metadata": {},
     "output_type": "execute_result"
    }
   ],
   "source": [
    "# Explore the data\n",
    "df.shape"
   ]
  },
  {
   "cell_type": "code",
   "execution_count": 5,
   "metadata": {},
   "outputs": [
    {
     "data": {
      "text/plain": [
       "q            int64\n",
       "ps           int64\n",
       "nma.a        int64\n",
       "nma.b        int64\n",
       "nma.c        int64\n",
       "nma.d        int64\n",
       "nma.e        int64\n",
       "nma.f        int64\n",
       "nex.a      float64\n",
       "nex.b      float64\n",
       "nex.c      float64\n",
       "nex.d      float64\n",
       "nex.e      float64\n",
       "nma.f.1    float64\n",
       "nma.g      float64\n",
       "nma.h      float64\n",
       "dd         float64\n",
       "dm         float64\n",
       "amfm         int64\n",
       "Class        int64\n",
       "dtype: object"
      ]
     },
     "execution_count": 5,
     "metadata": {},
     "output_type": "execute_result"
    }
   ],
   "source": [
    "df.dtypes"
   ]
  },
  {
   "cell_type": "code",
   "execution_count": 6,
   "metadata": {},
   "outputs": [
    {
     "data": {
      "text/html": [
       "<div>\n",
       "<style scoped>\n",
       "    .dataframe tbody tr th:only-of-type {\n",
       "        vertical-align: middle;\n",
       "    }\n",
       "\n",
       "    .dataframe tbody tr th {\n",
       "        vertical-align: top;\n",
       "    }\n",
       "\n",
       "    .dataframe thead th {\n",
       "        text-align: right;\n",
       "    }\n",
       "</style>\n",
       "<table border=\"1\" class=\"dataframe\">\n",
       "  <thead>\n",
       "    <tr style=\"text-align: right;\">\n",
       "      <th></th>\n",
       "      <th>q</th>\n",
       "      <th>ps</th>\n",
       "      <th>nma.a</th>\n",
       "      <th>nma.b</th>\n",
       "      <th>nma.c</th>\n",
       "      <th>nma.d</th>\n",
       "      <th>nma.e</th>\n",
       "      <th>nma.f</th>\n",
       "      <th>nex.a</th>\n",
       "      <th>nex.b</th>\n",
       "      <th>nex.c</th>\n",
       "      <th>nex.d</th>\n",
       "      <th>nex.e</th>\n",
       "      <th>nma.f.1</th>\n",
       "      <th>nma.g</th>\n",
       "      <th>nma.h</th>\n",
       "      <th>dd</th>\n",
       "      <th>dm</th>\n",
       "      <th>amfm</th>\n",
       "      <th>Class</th>\n",
       "    </tr>\n",
       "  </thead>\n",
       "  <tbody>\n",
       "    <tr>\n",
       "      <th>0</th>\n",
       "      <td>1</td>\n",
       "      <td>1</td>\n",
       "      <td>75</td>\n",
       "      <td>63</td>\n",
       "      <td>60</td>\n",
       "      <td>55</td>\n",
       "      <td>48</td>\n",
       "      <td>35</td>\n",
       "      <td>13.195493</td>\n",
       "      <td>4.396967</td>\n",
       "      <td>0.104070</td>\n",
       "      <td>0.000000</td>\n",
       "      <td>0.000000</td>\n",
       "      <td>0.000000</td>\n",
       "      <td>0.000000</td>\n",
       "      <td>0.000000</td>\n",
       "      <td>0.513092</td>\n",
       "      <td>0.123966</td>\n",
       "      <td>0</td>\n",
       "      <td>1</td>\n",
       "    </tr>\n",
       "    <tr>\n",
       "      <th>1</th>\n",
       "      <td>1</td>\n",
       "      <td>1</td>\n",
       "      <td>79</td>\n",
       "      <td>76</td>\n",
       "      <td>74</td>\n",
       "      <td>72</td>\n",
       "      <td>69</td>\n",
       "      <td>50</td>\n",
       "      <td>61.559348</td>\n",
       "      <td>28.959444</td>\n",
       "      <td>12.778104</td>\n",
       "      <td>2.045287</td>\n",
       "      <td>0.038016</td>\n",
       "      <td>0.000000</td>\n",
       "      <td>0.000000</td>\n",
       "      <td>0.000000</td>\n",
       "      <td>0.527993</td>\n",
       "      <td>0.101884</td>\n",
       "      <td>0</td>\n",
       "      <td>1</td>\n",
       "    </tr>\n",
       "    <tr>\n",
       "      <th>2</th>\n",
       "      <td>1</td>\n",
       "      <td>1</td>\n",
       "      <td>41</td>\n",
       "      <td>41</td>\n",
       "      <td>40</td>\n",
       "      <td>40</td>\n",
       "      <td>38</td>\n",
       "      <td>35</td>\n",
       "      <td>6.090116</td>\n",
       "      <td>0.834492</td>\n",
       "      <td>0.027460</td>\n",
       "      <td>0.000000</td>\n",
       "      <td>0.000000</td>\n",
       "      <td>0.000000</td>\n",
       "      <td>0.000000</td>\n",
       "      <td>0.000000</td>\n",
       "      <td>0.506881</td>\n",
       "      <td>0.091535</td>\n",
       "      <td>1</td>\n",
       "      <td>0</td>\n",
       "    </tr>\n",
       "    <tr>\n",
       "      <th>3</th>\n",
       "      <td>1</td>\n",
       "      <td>1</td>\n",
       "      <td>17</td>\n",
       "      <td>16</td>\n",
       "      <td>16</td>\n",
       "      <td>14</td>\n",
       "      <td>12</td>\n",
       "      <td>9</td>\n",
       "      <td>75.438535</td>\n",
       "      <td>20.352500</td>\n",
       "      <td>5.237412</td>\n",
       "      <td>0.206817</td>\n",
       "      <td>0.003884</td>\n",
       "      <td>0.000971</td>\n",
       "      <td>0.000971</td>\n",
       "      <td>0.000971</td>\n",
       "      <td>0.544614</td>\n",
       "      <td>0.089329</td>\n",
       "      <td>1</td>\n",
       "      <td>1</td>\n",
       "    </tr>\n",
       "    <tr>\n",
       "      <th>4</th>\n",
       "      <td>1</td>\n",
       "      <td>1</td>\n",
       "      <td>63</td>\n",
       "      <td>63</td>\n",
       "      <td>63</td>\n",
       "      <td>59</td>\n",
       "      <td>57</td>\n",
       "      <td>48</td>\n",
       "      <td>13.558211</td>\n",
       "      <td>5.366467</td>\n",
       "      <td>0.604079</td>\n",
       "      <td>0.051511</td>\n",
       "      <td>0.000000</td>\n",
       "      <td>0.000000</td>\n",
       "      <td>0.000000</td>\n",
       "      <td>0.000000</td>\n",
       "      <td>0.552941</td>\n",
       "      <td>0.112387</td>\n",
       "      <td>0</td>\n",
       "      <td>1</td>\n",
       "    </tr>\n",
       "  </tbody>\n",
       "</table>\n",
       "</div>"
      ],
      "text/plain": [
       "   q  ps  nma.a  nma.b  nma.c  nma.d  nma.e  nma.f      nex.a      nex.b  \\\n",
       "0  1   1     75     63     60     55     48     35  13.195493   4.396967   \n",
       "1  1   1     79     76     74     72     69     50  61.559348  28.959444   \n",
       "2  1   1     41     41     40     40     38     35   6.090116   0.834492   \n",
       "3  1   1     17     16     16     14     12      9  75.438535  20.352500   \n",
       "4  1   1     63     63     63     59     57     48  13.558211   5.366467   \n",
       "\n",
       "       nex.c     nex.d     nex.e   nma.f.1     nma.g     nma.h        dd  \\\n",
       "0   0.104070  0.000000  0.000000  0.000000  0.000000  0.000000  0.513092   \n",
       "1  12.778104  2.045287  0.038016  0.000000  0.000000  0.000000  0.527993   \n",
       "2   0.027460  0.000000  0.000000  0.000000  0.000000  0.000000  0.506881   \n",
       "3   5.237412  0.206817  0.003884  0.000971  0.000971  0.000971  0.544614   \n",
       "4   0.604079  0.051511  0.000000  0.000000  0.000000  0.000000  0.552941   \n",
       "\n",
       "         dm  amfm  Class  \n",
       "0  0.123966     0      1  \n",
       "1  0.101884     0      1  \n",
       "2  0.091535     1      0  \n",
       "3  0.089329     1      1  \n",
       "4  0.112387     0      1  "
      ]
     },
     "execution_count": 6,
     "metadata": {},
     "output_type": "execute_result"
    }
   ],
   "source": [
    "df.head()"
   ]
  },
  {
   "cell_type": "code",
   "execution_count": 7,
   "metadata": {},
   "outputs": [
    {
     "data": {
      "text/plain": [
       "q             int64\n",
       "ps            int64\n",
       "nma.a         int64\n",
       "nma.b         int64\n",
       "nma.c         int64\n",
       "nma.d         int64\n",
       "nma.e         int64\n",
       "nma.f         int64\n",
       "nex.a       float64\n",
       "nex.b       float64\n",
       "nex.c       float64\n",
       "nex.d       float64\n",
       "nex.e       float64\n",
       "nma.f.1     float64\n",
       "nma.g       float64\n",
       "nma.h       float64\n",
       "dd          float64\n",
       "dm          float64\n",
       "amfm          int64\n",
       "Class      category\n",
       "dtype: object"
      ]
     },
     "execution_count": 7,
     "metadata": {},
     "output_type": "execute_result"
    }
   ],
   "source": [
    "# Convert the Class to factor\n",
    "df['Class'] = df['Class'].astype('category')\n",
    "df.dtypes"
   ]
  },
  {
   "cell_type": "code",
   "execution_count": 8,
   "metadata": {},
   "outputs": [],
   "source": [
    "# SPlit the dataset\n",
    "x_train, x_test, y_train, y_test = train_test_split(df.values, df['Class'].values, \n",
    "                                                    test_size = 0.3, random_state=123)"
   ]
  },
  {
   "cell_type": "markdown",
   "metadata": {},
   "source": [
    "#### Simple Ensemble Techniques"
   ]
  },
  {
   "cell_type": "code",
   "execution_count": 9,
   "metadata": {
    "scrolled": true
   },
   "outputs": [
    {
     "data": {
      "text/plain": [
       "array([9.93788820e-01, 9.11490683e-01, 3.88788820e+01, 3.72950311e+01,\n",
       "       3.54332298e+01, 3.25015528e+01, 2.88819876e+01, 2.11428571e+01,\n",
       "       6.29931750e+01, 2.26212520e+01, 8.37121561e+00, 1.79391036e+00,\n",
       "       6.05581949e-01, 2.27242775e-01, 8.50907236e-02, 3.43097671e-02,\n",
       "       5.22833116e-01, 1.08045463e-01, 3.30745342e-01, 5.45031056e-01])"
      ]
     },
     "execution_count": 9,
     "metadata": {},
     "output_type": "execute_result"
    }
   ],
   "source": [
    "# Standardize the data\n",
    "from sklearn import preprocessing\n",
    "scaler = preprocessing.StandardScaler().fit(x_train)\n",
    "scaler.mean_"
   ]
  },
  {
   "cell_type": "code",
   "execution_count": 10,
   "metadata": {},
   "outputs": [
    {
     "data": {
      "text/plain": [
       "array([7.85659046e-02, 2.84034184e-01, 2.51764134e+01, 2.36517810e+01,\n",
       "       2.22842356e+01, 2.06703270e+01, 1.90111536e+01, 1.46116847e+01,\n",
       "       5.81244675e+01, 2.13589826e+01, 1.13192798e+01, 4.23655140e+00,\n",
       "       2.92335487e+00, 1.22486790e+00, 4.10876838e-01, 1.59464653e-01,\n",
       "       2.87110822e-02, 1.73946414e-02, 4.70481520e-01, 4.97968075e-01])"
      ]
     },
     "execution_count": 10,
     "metadata": {},
     "output_type": "execute_result"
    }
   ],
   "source": [
    "scaler.scale_"
   ]
  },
  {
   "cell_type": "code",
   "execution_count": 11,
   "metadata": {},
   "outputs": [],
   "source": [
    "# Transform the data\n",
    "x_train_trans = scaler.transform(x_train)\n",
    "x_test_trans = scaler.transform(x_test)"
   ]
  },
  {
   "cell_type": "code",
   "execution_count": 12,
   "metadata": {},
   "outputs": [],
   "source": [
    "# 1. Max Voting\n",
    "model1 = DecisionTreeClassifier()\n",
    "model2 = KNeighborsClassifier()\n",
    "model3= LogisticRegression()\n",
    "model1.fit(x_train_trans,y_train)\n",
    "model2.fit(x_train_trans,y_train)\n",
    "model3.fit(x_train_trans,y_train)\n",
    "\n",
    "pred1=model1.predict(x_test_trans)\n",
    "pred2=model2.predict(x_test_trans)\n",
    "pred3=model3.predict(x_test_trans)\n",
    "\n",
    "final_pred = np.array([])\n",
    "for i in range(0,len(x_test_trans)):\n",
    "    final_pred = np.append(final_pred, mode([pred1[i], pred2[i], pred3[i]]))"
   ]
  },
  {
   "cell_type": "code",
   "execution_count": 13,
   "metadata": {},
   "outputs": [
    {
     "name": "stdout",
     "output_type": "stream",
     "text": [
      "True Negative =145\n",
      "False Negative =0\n",
      "True Positive =131\n",
      "False Positive =0\n"
     ]
    }
   ],
   "source": [
    "trainCM1 = confusion_matrix(y_test, final_pred)\n",
    "print('True Negative ='+ str(trainCM1[0,0]))\n",
    "print('False Negative ='+ str(trainCM1[1,0]))\n",
    "print('True Positive ='+ str(trainCM1[1,1]))\n",
    "print('False Positive ='+ str(trainCM1[0,1]))"
   ]
  },
  {
   "cell_type": "code",
   "execution_count": 14,
   "metadata": {},
   "outputs": [
    {
     "name": "stdout",
     "output_type": "stream",
     "text": [
      "Testing Accuracy Percentage = 100.0\n",
      "Training Precision = 1.0\n",
      "Training Specificity = 1.0\n",
      "Recall/True Positive Rate/Sensitivity = 1.0\n"
     ]
    }
   ],
   "source": [
    "print('Testing Accuracy Percentage =',metrics.accuracy_score(final_pred, y_test)*100)\n",
    "print('Training Precision =', trainCM1[1,1]/(trainCM1[1,1]+trainCM1[0,1])) #Precision=tp/(tp+fp)\n",
    "print('Training Specificity =',trainCM1[0,0]/(trainCM1[0,0]+trainCM1[0,1]) )#True negative rate/Specificity=tn/(tn+fp)\n",
    "print('Recall/True Positive Rate/Sensitivity =', trainCM1[1,1]/(trainCM1[1,1]+trainCM1[1,0])) #Recall=tp/(tp+fn)"
   ]
  },
  {
   "cell_type": "code",
   "execution_count": 15,
   "metadata": {},
   "outputs": [],
   "source": [
    "# 2. Averaging\n",
    "model1 = DecisionTreeClassifier()\n",
    "model2 = KNeighborsClassifier()\n",
    "model3= LogisticRegression()\n",
    "\n",
    "model1.fit(x_train_trans,y_train)\n",
    "model2.fit(x_train_trans,y_train)\n",
    "model3.fit(x_train_trans,y_train)\n",
    "\n",
    "pred1=model1.predict_proba(x_test_trans)[:,1]\n",
    "pred2=model2.predict_proba(x_test_trans)[:,1]\n",
    "pred3=model3.predict_proba(x_test_trans)[:,1]\n",
    "\n",
    "finalpred=(pred1+pred2+pred3)/3\n",
    "threshold = 0.5\n",
    "preds = np.where(finalpred > threshold , 1,0)"
   ]
  },
  {
   "cell_type": "code",
   "execution_count": 16,
   "metadata": {},
   "outputs": [
    {
     "name": "stdout",
     "output_type": "stream",
     "text": [
      "True Negative =145\n",
      "False Negative =0\n",
      "True Positive =131\n",
      "False Positive =0\n"
     ]
    }
   ],
   "source": [
    "trainCM2 = confusion_matrix(y_test, preds)\n",
    "print('True Negative ='+ str(trainCM2[0,0]))\n",
    "print('False Negative ='+ str(trainCM2[1,0]))\n",
    "print('True Positive ='+ str(trainCM2[1,1]))\n",
    "print('False Positive ='+ str(trainCM2[0,1]))"
   ]
  },
  {
   "cell_type": "markdown",
   "metadata": {},
   "source": [
    "#### Advanced Ensemble Techniques"
   ]
  },
  {
   "cell_type": "code",
   "execution_count": 17,
   "metadata": {},
   "outputs": [],
   "source": [
    "# 1. Blending\n",
    "# SPlit Train/Validation/Test\n",
    "X_train, X_test, Y_train, Y_test = train_test_split(df.values, df['Class'].values, \n",
    "                                                    test_size = 0.3, random_state=123)\n",
    "\n",
    "X_train, X_val, Y_train, Y_val = train_test_split(X_train, Y_train, test_size=0.2, random_state=1) \n",
    "\n",
    "X_train_trans = scaler.transform(X_train)\n",
    "X_test_trans = scaler.transform(X_test)\n",
    "X_val_trans=scaler.transform(X_val)\n",
    "\n",
    "model1 = DecisionTreeClassifier()\n",
    "model1.fit(X_train_trans, Y_train)\n",
    "val_pred1=model1.predict(X_val_trans)\n",
    "test_pred1=model1.predict(X_test_trans)\n",
    "val_pred1=pd.DataFrame(val_pred1)\n",
    "test_pred1=pd.DataFrame(test_pred1)\n",
    "\n",
    "model2 = KNeighborsClassifier()\n",
    "model2.fit(X_train_trans,Y_train)\n",
    "val_pred2=model2.predict(X_val_trans)\n",
    "test_pred2=model2.predict(X_test_trans)\n",
    "val_pred2=pd.DataFrame(val_pred2)\n",
    "test_pred2=pd.DataFrame(test_pred2)"
   ]
  },
  {
   "cell_type": "code",
   "execution_count": 18,
   "metadata": {},
   "outputs": [],
   "source": [
    "Xval = pd.DataFrame(X_val_trans)\n",
    "Xtest = pd.DataFrame(X_test_trans)\n",
    "df_val=pd.concat([Xval, val_pred1,val_pred2],axis=1)\n",
    "df_test=pd.concat([Xtest, test_pred1,test_pred2],axis=1)\n",
    "\n",
    "model = LogisticRegression()\n",
    "model.fit(df_val,Y_val)\n",
    "pred1=model.predict_proba(df_test)[:,1]\n",
    "threshold = 0.5\n",
    "prediction = np.where(pred1 > threshold , 1,0)"
   ]
  },
  {
   "cell_type": "code",
   "execution_count": 19,
   "metadata": {},
   "outputs": [
    {
     "name": "stdout",
     "output_type": "stream",
     "text": [
      "True Negative =145\n",
      "False Negative =0\n",
      "True Positive =131\n",
      "False Positive =0\n"
     ]
    }
   ],
   "source": [
    "trainCM3 = confusion_matrix(Y_test, prediction)\n",
    "print('True Negative ='+ str(trainCM3[0,0]))\n",
    "print('False Negative ='+ str(trainCM3[1,0]))\n",
    "print('True Positive ='+ str(trainCM3[1,1]))\n",
    "print('False Positive ='+ str(trainCM3[0,1]))"
   ]
  },
  {
   "cell_type": "code",
   "execution_count": 20,
   "metadata": {},
   "outputs": [
    {
     "name": "stdout",
     "output_type": "stream",
     "text": [
      "Testing Accuracy Percentage = 100.0\n",
      "Training Precision = 1.0\n",
      "Training Specificity = 1.0\n",
      "Recall/True Positive Rate/Sensitivity = 1.0\n"
     ]
    }
   ],
   "source": [
    "print('Testing Accuracy Percentage =',metrics.accuracy_score(prediction, Y_test)*100)\n",
    "print('Training Precision =', trainCM3[1,1]/(trainCM3[1,1]+trainCM3[0,1])) #Precision=tp/(tp+fp)\n",
    "print('Training Specificity =',trainCM3[0,0]/(trainCM3[0,0]+trainCM3[0,1]) )#True negative rate/Specificity=tn/(tn+fp)\n",
    "print('Recall/True Positive Rate/Sensitivity =', trainCM3[1,1]/(trainCM3[1,1]+trainCM3[1,0])) #Recall=tp/(tp+fn)"
   ]
  }
 ],
 "metadata": {
  "kernelspec": {
   "display_name": "Python 3",
   "language": "python",
   "name": "python3"
  },
  "language_info": {
   "codemirror_mode": {
    "name": "ipython",
    "version": 3
   },
   "file_extension": ".py",
   "mimetype": "text/x-python",
   "name": "python",
   "nbconvert_exporter": "python",
   "pygments_lexer": "ipython3",
   "version": "3.7.3"
  }
 },
 "nbformat": 4,
 "nbformat_minor": 2
}
